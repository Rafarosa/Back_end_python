{
  "nbformat": 4,
  "nbformat_minor": 0,
  "metadata": {
    "colab": {
      "provenance": [],
      "collapsed_sections": [],
      "toc_visible": true,
      "include_colab_link": true
    },
    "kernelspec": {
      "name": "python3",
      "display_name": "Python 3"
    }
  },
  "cells": [
    {
      "cell_type": "markdown",
      "metadata": {
        "id": "view-in-github",
        "colab_type": "text"
      },
      "source": [
        "<a href=\"https://colab.research.google.com/github/Rafarosa/Back_end_python/blob/main/modulo_2_exercicios_Rafael_AR_da_rosa.ipynb\" target=\"_parent\"><img src=\"https://colab.research.google.com/assets/colab-badge.svg\" alt=\"Open In Colab\"/></a>"
      ]
    },
    {
      "cell_type": "markdown",
      "metadata": {
        "id": "KJqp9AANOCtf"
      },
      "source": [
        "<img src=\"https://raw.githubusercontent.com/andre-marcos-perez/ebac-course-utils/main/media/logo/newebac_logo_black_half.png\" alt=\"ebac-logo\">\n",
        "\n",
        "---\n",
        "\n",
        "# **Módulo 02** | Python: Estruturas de Dados\n",
        "Caderno de **Exercícios**<br> \n",
        "Professor [André Perez](https://www.linkedin.com/in/andremarcosperez/)\n",
        "\n",
        "---"
      ]
    },
    {
      "cell_type": "markdown",
      "metadata": {
        "id": "d9jDtUbDOE1-"
      },
      "source": [
        "# **Tópicos**\n",
        "\n",
        "<ol type=\"1\">\n",
        "  <li>Listas;</li>\n",
        "  <li>Conjuntos;</li>\n",
        "  <li>Dicionários.</li>\n",
        "</ol>"
      ]
    },
    {
      "cell_type": "markdown",
      "metadata": {
        "id": "SmoHgt-lwkpD"
      },
      "source": [
        "---"
      ]
    },
    {
      "cell_type": "markdown",
      "metadata": {
        "id": "GABI6OW8OfQ2"
      },
      "source": [
        "# **Exercícios**"
      ]
    },
    {
      "cell_type": "markdown",
      "metadata": {
        "id": "muD1vxozykSC"
      },
      "source": [
        "## 1\\. Listas"
      ]
    },
    {
      "cell_type": "markdown",
      "metadata": {
        "id": "ahrFfCuBxJKs"
      },
      "source": [
        "Criei uma lista chamada `filmes` com o nome dos 10 primeiros filmes mais bem avaliados no site no [IMDB](https://www.imdb.com/chart/top/). Imprima o resultado."
      ]
    },
    {
      "cell_type": "code",
      "metadata": {
        "id": "OgL6Hv3bzOHI",
        "colab": {
          "base_uri": "https://localhost:8080/"
        },
        "outputId": "84046efc-a47d-4042-b7b1-1029dde1031b"
      },
      "source": [
        "### Lista dos filmes mais bem avaliados \n",
        "top10filmes = ['The Shawshank Redemption', 'The Godfather (1972)',\n",
        "               'The Godfather: Part II (1974)', 'Batman: the Dark Knight (2008)',\n",
        "               '12 Angry Men (1957)', 'Schindlers List (1993)', \n",
        "               '7. The Lord of the Rings: The Return of the King', 'Pulp Fiction (1994)',\n",
        "               'The Good, the Bad and the Ugly (1966)', 'The Lord of the Rings: The Fellowship of the Ring (2001)']\n",
        "print(top10filmes)\n",
        "print(type(top10filmes))"
      ],
      "execution_count": null,
      "outputs": [
        {
          "output_type": "stream",
          "name": "stdout",
          "text": [
            "['The Shawshank Redemption', 'The Godfather (1972)', 'The Godfather: Part II (1974)', 'Batman: the Dark Knight (2008)', '12 Angry Men (1957)', 'Schindlers List (1993)', '7. The Lord of the Rings: The Return of the King', 'Pulp Fiction (1994)', 'The Good, the Bad and the Ugly (1966)', 'The Lord of the Rings: The Fellowship of the Ring (2001)']\n",
            "<class 'list'>\n"
          ]
        }
      ]
    },
    {
      "cell_type": "markdown",
      "metadata": {
        "id": "KI9zQRT2xa7m"
      },
      "source": [
        "Simule a movimentação do *ranking*. Utilize os métodos `insert` e `pop` para trocar a posição do primeiro e do segundo filme da lista. Imprima o resultado.\n",
        "\n"
      ]
    },
    {
      "cell_type": "code",
      "metadata": {
        "id": "zX3mA3_GzrXH",
        "colab": {
          "base_uri": "https://localhost:8080/"
        },
        "outputId": "e93df790-a812-4281-ee5b-b8c2c0a4ad03"
      },
      "source": [
        "### removendo o segundo item da lista \n",
        "seg_filme = str(top10filmes[1])\n",
        "print(seg_filme)\n",
        "top10filmes.pop(1)\n",
        "print(top10filmes)\n",
        "\n",
        "### Adicionado \n",
        "top10filmes.insert(0,seg_filme)\n",
        "print(top10filmes)\n",
        "\n"
      ],
      "execution_count": null,
      "outputs": [
        {
          "output_type": "stream",
          "name": "stdout",
          "text": [
            "The Godfather (1972)\n",
            "['The Shawshank Redemption', 'The Godfather: Part II (1974)', 'Batman: the Dark Knight (2008)', '12 Angry Men (1957)', 'Schindlers List (1993)', '7. The Lord of the Rings: The Return of the King', 'Pulp Fiction (1994)', 'The Good, the Bad and the Ugly (1966)', 'The Lord of the Rings: The Fellowship of the Ring (2001)']\n",
            "['The Godfather (1972)', 'The Shawshank Redemption', 'The Godfather: Part II (1974)', 'Batman: the Dark Knight (2008)', '12 Angry Men (1957)', 'Schindlers List (1993)', '7. The Lord of the Rings: The Return of the King', 'Pulp Fiction (1994)', 'The Good, the Bad and the Ugly (1966)', 'The Lord of the Rings: The Fellowship of the Ring (2001)']\n"
          ]
        }
      ]
    },
    {
      "cell_type": "markdown",
      "metadata": {
        "id": "zMN1Q3jdwoJm"
      },
      "source": [
        "---"
      ]
    },
    {
      "cell_type": "markdown",
      "metadata": {
        "id": "lxa5L6uF0ZJE"
      },
      "source": [
        "## 2\\. Conjuntos"
      ]
    },
    {
      "cell_type": "markdown",
      "metadata": {
        "id": "9JahS2Kj0d5u"
      },
      "source": [
        "Aconteceu um erro no seu *ranking*. Simule a duplicação dos três últimos filmes da lista. Imprima o resultado."
      ]
    },
    {
      "cell_type": "code",
      "metadata": {
        "id": "BnjnLBNC6PGe",
        "colab": {
          "base_uri": "https://localhost:8080/"
        },
        "outputId": "f4b41917-f27f-4da5-c41a-4f5d09b2d3eb"
      },
      "source": [
        "### itens duplicados \n",
        "duplica_filme = ['Pulp Fiction (1994)','The Good, the Bad and the Ugly (1966)', \n",
        "                 'The Lord of the Rings: The Fellowship of the Ring (2001)']\n",
        "\n",
        "novo_top10filmes = top10filmes + duplica_filme\n",
        "print(novo_top10filmes)"
      ],
      "execution_count": null,
      "outputs": [
        {
          "output_type": "stream",
          "name": "stdout",
          "text": [
            "['The Godfather (1972)', 'The Shawshank Redemption', 'The Godfather: Part II (1974)', 'Batman: the Dark Knight (2008)', '12 Angry Men (1957)', 'Schindlers List (1993)', '7. The Lord of the Rings: The Return of the King', 'Pulp Fiction (1994)', 'The Good, the Bad and the Ugly (1966)', 'The Lord of the Rings: The Fellowship of the Ring (2001)', 'Pulp Fiction (1994)', 'The Good, the Bad and the Ugly (1966)', 'The Lord of the Rings: The Fellowship of the Ring (2001)']\n"
          ]
        }
      ]
    },
    {
      "cell_type": "markdown",
      "metadata": {
        "id": "suxTfCJB6ZiX"
      },
      "source": [
        "Utiliza a conversão `set` e `list` para remover os valores duplicados. Imprima o resultado. "
      ]
    },
    {
      "cell_type": "code",
      "metadata": {
        "id": "ZvUGN-0n6joM",
        "colab": {
          "base_uri": "https://localhost:8080/"
        },
        "outputId": "55655008-81f2-4b4e-c1e6-e3512bd89d4b"
      },
      "source": [
        "### Convertendo em conjunto \n",
        "novo_top10filmes = set(novo_top10filmes)\n",
        "print(novo_top10filmes)\n",
        "\n",
        "### Convertendo novamente em lista \n",
        "novo_top10filmes = list(novo_top10filmes)\n",
        "print(novo_top10filmes)"
      ],
      "execution_count": null,
      "outputs": [
        {
          "output_type": "stream",
          "name": "stdout",
          "text": [
            "{'12 Angry Men (1957)', 'Schindlers List (1993)', '7. The Lord of the Rings: The Return of the King', 'The Good, the Bad and the Ugly (1966)', 'The Shawshank Redemption', 'Batman: the Dark Knight (2008)', 'The Godfather: Part II (1974)', 'The Godfather (1972)', 'Pulp Fiction (1994)', 'The Lord of the Rings: The Fellowship of the Ring (2001)'}\n",
            "['12 Angry Men (1957)', 'Schindlers List (1993)', '7. The Lord of the Rings: The Return of the King', 'The Good, the Bad and the Ugly (1966)', 'The Shawshank Redemption', 'Batman: the Dark Knight (2008)', 'The Godfather: Part II (1974)', 'The Godfather (1972)', 'Pulp Fiction (1994)', 'The Lord of the Rings: The Fellowship of the Ring (2001)']\n"
          ]
        }
      ]
    },
    {
      "cell_type": "markdown",
      "metadata": {
        "id": "ShkK35eQ6pAM"
      },
      "source": [
        "---"
      ]
    },
    {
      "cell_type": "markdown",
      "metadata": {
        "id": "EL_FzmxL6rTv"
      },
      "source": [
        "## 3\\. Dicionários"
      ]
    },
    {
      "cell_type": "markdown",
      "metadata": {
        "id": "i8l0gFqRCpfT"
      },
      "source": [
        "Repita os exercícios da parte 1 (listas). Os elementos da lista `filmes` devem ser dicionários no seguinte formato: `{'nome': <nome-do-filme>, 'ano': <ano do filme>}, 'sinopse': <sinopse do filme>}`. "
      ]
    },
    {
      "cell_type": "code",
      "source": [
        "dicionario_top10filmes = {\n",
        "    'The Shawshank Redemption': {\n",
        "        'nome': 'Um Sonho de Liberdade',\n",
        "        'ano': 1994,\n",
        "        'sinopse': 'Com uma história interessante e recheada de reviravoltas que acompanha a jornada de um banqueiro sentenciado a prisão perpetua pelo assassinato de sua esposa e do amante, e um elenco de estrelas como Tim Robbins e Morgan Freeman, o filme foi muito bem recebido pela crítica, embora o desempenho nas bilheterias na época tenha decepcionado.'\n",
        "    },\n",
        "    'The Godfather': {\n",
        "        'nome': 'Poderoso Chefão',\n",
        "        'ano': 1972,\n",
        "        'sinopse': 'Considerado por alguns críticos como a melhor trilogia já feita (e adaptada) para o cinema, o primeiro filme do Poderoso Chefão (1972), baseado no livro homônimo do escritor americano Mario Puzo, tornou a história da família ítalo-americana Corleone mundialmente famosa, reconhecida e admirada.'\n",
        "    },\n",
        "    'The Godfather: Part II': {\n",
        "        'nome': 'Poderoso Chefão Parte II',\n",
        "        'ano': '1974',\n",
        "        'sinopse': 'O arco narrativo do segundo filme se passa três anos após os acontecimentos da primeira parte da saga da família Corleone e segue acompanhando alguns dos personagens centrais da família paralelamente.'\n",
        "    },\n",
        "    'Batman: the Dark Knight': {\n",
        "        'nome': 'Batman: O Cavaleiro das Trevas',\n",
        "        'ano': 2008,\n",
        "        'sinopse': 'Além de contar aspectos interessantes da história do Batman, a obra foi marcada especialmente pela ótima direção e produção de Christopher Nolan e as atuações memoráveis e icônicas de Christian Bale como \"Bruce Wayne/Batman\" e Heath Ledger como \"O Coringa\".'\n",
        "    },\n",
        "    '12 Angry Men': {\n",
        "        'nome': '12 Homens e Uma Sentença',\n",
        "        'ano': 1957,\n",
        "        'sinopse': 'A trama do filme gira em torno de um julgamento de assassinato, quando um jovem porto-riquenho é acusado de ter matado o próprio pai. Onze dos jurados, cada um com sua convicção, votam pela condenação. Porém, o jurado número 8, o sr. Davis, é o único que duvida da culpa do jovem e, enquanto tenta convencer os outros a repensarem a sentença, traços de personalidade de cada um dos jurados vão sendo revelados pouco a pouco, colocando as duas histórias em um paralelo interessante: o caso do assassinato e a própria vida de cada um dos jurados.'\n",
        "    },\n",
        "    'Schindlers List': {\n",
        "        'nome': 'A Lista de Schindler',\n",
        "        'ano': 1993,\n",
        "        'sinopse': 'Assim como o romance que inspirou a versão dos cinemas, a história é baseada nos fatos vividos por Oskar Schindler, membro do Partido Nazista e um industrial alemão que, durante a Segunda Guerra Mundial, salva a vida de cerca de 1.200 judeus dos campos de concentração da Polônia e Alemanha ao emprega-los em sua fábrica.'\n",
        "    },\n",
        "    'The Lord of the Rings: The Return of the King': {\n",
        "        'nome': 'Senhor dos Anéis: O Retorno do Rei',\n",
        "        'ano': 2003,\n",
        "        'sinopse': 'é o último filme que conclui a trilogia de fantasia baseada nos livros homônimos de J. R. R. Tolkien. A série Senhor dos Anéis é, até hoje, uma referência importante quando falamos  de trilogias de fantasia no cinema'\n",
        "    },\n",
        "    'Pulp Fiction': {\n",
        "        'nome': 'Pulp Fiction: Tempo de Violência',\n",
        "        'ano': 1994,\n",
        "        'sinopse': 'Pulp Fiction (Pulp Fiction: Tempo de Violência, em português) é possivelmente o mais aclamado e reconhecido filme do diretor Quentin Tarantino e, em menos de 30 anos do seu lançamento, já é considerado um clássico cinema, seja por seu estilo, pela forma inédita de direção (que viraria marca registrada do diretor) ou simplesmente pela quantidade de referencias à cultura pop que possui.'\n",
        "    },\n",
        "    'The Good, the Bad and the Ugly': {\n",
        "        'nome': 'Três Homens em Conflito',\n",
        "        'ano': 1966,\n",
        "        'sinopse': 'A trama gira em torno desses três pistoleiros (O Bom, o Mau e o Feio) competindo para descobrir uma fortuna em ouro, enterrada em algum lugar central dos EUA, que vive a sua Guerra Civil.'\n",
        "    },\n",
        "    'The Lord of the Rings: The Fellowship of the Ring': {\n",
        "        'nome': 'O Senhor dos Anéis: A Sociedade do Anel',\n",
        "        'ano': 2001,\n",
        "        'sinopse': 'The Lord of the Rings: The Fellowship of the Ring (no Brasil O Senhor dos Anéis: A Sociedade do Anel) é o primeiro filme da acalmada trilogia inspirada nos livros homônimos de J. R. R. Tolkien.'\n",
        "    }\n",
        "}\n",
        "\n",
        "print(dicionario_top10filmes)"
      ],
      "metadata": {
        "colab": {
          "base_uri": "https://localhost:8080/"
        },
        "id": "3nd7AmzToFtI",
        "outputId": "35c67ba9-b7d9-4bce-9064-4e8602f6be96"
      },
      "execution_count": null,
      "outputs": [
        {
          "output_type": "stream",
          "name": "stdout",
          "text": [
            "{'The Shawshank Redemption': {'nome': 'Um Sonho de Liberdade', 'ano': 1994, 'sinopse': 'Com uma história interessante e recheada de reviravoltas que acompanha a jornada de um banqueiro sentenciado a prisão perpetua pelo assassinato de sua esposa e do amante, e um elenco de estrelas como Tim Robbins e Morgan Freeman, o filme foi muito bem recebido pela crítica, embora o desempenho nas bilheterias na época tenha decepcionado.'}, 'The Godfather': {'nome': 'Poderoso Chefão', 'ano': 1972, 'sinopse': 'Considerado por alguns críticos como a melhor trilogia já feita (e adaptada) para o cinema, o primeiro filme do Poderoso Chefão (1972), baseado no livro homônimo do escritor americano Mario Puzo, tornou a história da família ítalo-americana Corleone mundialmente famosa, reconhecida e admirada.'}, 'The Godfather: Part II': {'nome': 'Poderoso Chefão Parte II', 'ano': '1974', 'sinopse': 'O arco narrativo do segundo filme se passa três anos após os acontecimentos da primeira parte da saga da família Corleone e segue acompanhando alguns dos personagens centrais da família paralelamente.'}, 'Batman: the Dark Knight': {'nome': 'Batman: O Cavaleiro das Trevas', 'ano': 2008, 'sinopse': 'Além de contar aspectos interessantes da história do Batman, a obra foi marcada especialmente pela ótima direção e produção de Christopher Nolan e as atuações memoráveis e icônicas de Christian Bale como \"Bruce Wayne/Batman\" e Heath Ledger como \"O Coringa\".'}, '12 Angry Men': {'nome': '12 Homens e Uma Sentença', 'ano': 1957, 'sinopse': 'A trama do filme gira em torno de um julgamento de assassinato, quando um jovem porto-riquenho é acusado de ter matado o próprio pai. Onze dos jurados, cada um com sua convicção, votam pela condenação. Porém, o jurado número 8, o sr. Davis, é o único que duvida da culpa do jovem e, enquanto tenta convencer os outros a repensarem a sentença, traços de personalidade de cada um dos jurados vão sendo revelados pouco a pouco, colocando as duas histórias em um paralelo interessante: o caso do assassinato e a própria vida de cada um dos jurados.'}, 'Schindlers List': {'nome': 'A Lista de Schindler', 'ano': 1993, 'sinopse': 'Assim como o romance que inspirou a versão dos cinemas, a história é baseada nos fatos vividos por Oskar Schindler, membro do Partido Nazista e um industrial alemão que, durante a Segunda Guerra Mundial, salva a vida de cerca de 1.200 judeus dos campos de concentração da Polônia e Alemanha ao emprega-los em sua fábrica.'}, 'The Lord of the Rings: The Return of the King': {'nome': 'Senhor dos Anéis: O Retorno do Rei', 'ano': 2003, 'sinopse': 'é o último filme que conclui a trilogia de fantasia baseada nos livros homônimos de J. R. R. Tolkien. A série Senhor dos Anéis é, até hoje, uma referência importante quando falamos  de trilogias de fantasia no cinema'}, 'Pulp Fiction': {'nome': 'Pulp Fiction: Tempo de Violência', 'ano': 1994, 'sinopse': 'Pulp Fiction (Pulp Fiction: Tempo de Violência, em português) é possivelmente o mais aclamado e reconhecido filme do diretor Quentin Tarantino e, em menos de 30 anos do seu lançamento, já é considerado um clássico cinema, seja por seu estilo, pela forma inédita de direção (que viraria marca registrada do diretor) ou simplesmente pela quantidade de referencias à cultura pop que possui.'}, 'The Good, the Bad and the Ugly': {'nome': 'Três Homens em Conflito', 'ano': 1966, 'sinopse': 'A trama gira em torno desses três pistoleiros (O Bom, o Mau e o Feio) competindo para descobrir uma fortuna em ouro, enterrada em algum lugar central dos EUA, que vive a sua Guerra Civil.'}, 'The Lord of the Rings: The Fellowship of the Ring': {'nome': 'O Senhor dos Anéis: A Sociedade do Anel', 'ano': 2001, 'sinopse': 'The Lord of the Rings: The Fellowship of the Ring (no Brasil O Senhor dos Anéis: A Sociedade do Anel) é o primeiro filme da acalmada trilogia inspirada nos livros homônimos de J. R. R. Tolkien.'}}\n"
          ]
        }
      ]
    }
  ]
}